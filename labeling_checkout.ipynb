{
  "nbformat": 4,
  "nbformat_minor": 0,
  "metadata": {
    "colab": {
      "provenance": []
    },
    "kernelspec": {
      "name": "python3",
      "display_name": "Python 3"
    },
    "language_info": {
      "name": "python"
    }
  },
  "cells": [
    {
      "cell_type": "markdown",
      "source": [
        "# Загрузи наши датасеты от разных разметчиков"
      ],
      "metadata": {
        "id": "4iv28oi0Ycb4"
      }
    },
    {
      "cell_type": "code",
      "execution_count": 1,
      "metadata": {
        "id": "fbSmNGRhJVhW"
      },
      "outputs": [],
      "source": [
        "!unzip -q /content/trains_only_2.v1i.yolov8.zip -d trains_only_2"
      ]
    },
    {
      "cell_type": "code",
      "source": [
        "!unzip -q /content/trains_only.v1i.yolov8.zip -d trains_only_1"
      ],
      "metadata": {
        "id": "9ltwhF9xJqCO"
      },
      "execution_count": 2,
      "outputs": []
    },
    {
      "cell_type": "markdown",
      "source": [
        "# Инициализируем необходимый функционал"
      ],
      "metadata": {
        "id": "QW8FTvMIYi_p"
      }
    },
    {
      "cell_type": "code",
      "source": [
        "import os"
      ],
      "metadata": {
        "id": "p5sUqlbgTE2r"
      },
      "execution_count": 3,
      "outputs": []
    },
    {
      "cell_type": "code",
      "source": [
        "def parse_annotation_file(file_path):\n",
        "    with open(file_path, 'r') as file:\n",
        "        lines = file.readlines()\n",
        "\n",
        "    annotations = []\n",
        "    for line in lines:\n",
        "        parts = line.strip().split()\n",
        "        if len(parts) == 5:\n",
        "            class_label, x, y, width, height = map(float, parts)\n",
        "            annotations.append({'class': int(class_label), 'bbox': (x, y, width, height)})\n",
        "\n",
        "    return annotations"
      ],
      "metadata": {
        "id": "TsF_Hf8OTGeJ"
      },
      "execution_count": 4,
      "outputs": []
    },
    {
      "cell_type": "code",
      "source": [
        "def compare_label_counts(folder1, folder2):\n",
        "    files1 = sorted(os.listdir(folder1))\n",
        "    files2 = sorted(os.listdir(folder2))\n",
        "\n",
        "    label_counts1 = {}\n",
        "    label_counts2 = {}\n",
        "\n",
        "    for file1, file2 in zip(files1, files2):\n",
        "        file_path1 = os.path.join(folder1, file1)\n",
        "        file_path2 = os.path.join(folder2, file2)\n",
        "\n",
        "        annotations1 = parse_annotation_file(file_path1)\n",
        "        annotations2 = parse_annotation_file(file_path2)\n",
        "\n",
        "        label_counts1[file1] = len(annotations1)\n",
        "        label_counts2[file2] = len(annotations2)\n",
        "\n",
        "    return label_counts1, label_counts2"
      ],
      "metadata": {
        "id": "U8Js_75-TH2c"
      },
      "execution_count": 5,
      "outputs": []
    },
    {
      "cell_type": "code",
      "source": [
        "def calculate_bbox_deviation(bbox1, bbox2):\n",
        "    deviation = [bbox1[i] - bbox2[i] for i in range(4)]\n",
        "    return deviation"
      ],
      "metadata": {
        "id": "Hg6XyrD_UroQ"
      },
      "execution_count": 6,
      "outputs": []
    },
    {
      "cell_type": "code",
      "source": [
        "def compare_bbox_values(folder1, folder2):\n",
        "    files1 = sorted(os.listdir(folder1))\n",
        "    files2 = sorted(os.listdir(folder2))\n",
        "\n",
        "    bbox_deviations = {}\n",
        "\n",
        "    for file1, file2 in zip(files1, files2):\n",
        "        file_path1 = os.path.join(folder1, file1)\n",
        "        file_path2 = os.path.join(folder2, file2)\n",
        "\n",
        "        annotations1 = parse_annotation_file(file_path1)\n",
        "        annotations2 = parse_annotation_file(file_path2)\n",
        "\n",
        "        if len(annotations1) != len(annotations2):\n",
        "            print(f\"Number of annotations mismatch between {file1} and {file2}\")\n",
        "            continue\n",
        "\n",
        "        bbox_deviations[file1] = []\n",
        "\n",
        "        for annot1, annot2 in zip(annotations1, annotations2):\n",
        "            bbox_deviation = calculate_bbox_deviation(annot1['bbox'], annot2['bbox'])\n",
        "            bbox_deviations[file1].append({'class': annot1['class'], 'bbox_deviation': bbox_deviation})\n",
        "\n",
        "    return bbox_deviations"
      ],
      "metadata": {
        "id": "CJfCWQUQU0BE"
      },
      "execution_count": 7,
      "outputs": []
    },
    {
      "cell_type": "markdown",
      "source": [
        "# Проверим различие в количестве размеченных объектов"
      ],
      "metadata": {
        "id": "P2EtG3ezT6t2"
      }
    },
    {
      "cell_type": "code",
      "source": [
        "folder_path1 = '/content/trains_only_1/trains_only.v1i.yolov8/train/labels'\n",
        "folder_path2 = '/content/trains_only_2/trains_only_2.v1i.yolov8/train/labels'"
      ],
      "metadata": {
        "id": "sjmE-SZ4TPdo"
      },
      "execution_count": 8,
      "outputs": []
    },
    {
      "cell_type": "code",
      "source": [
        "label_counts1, label_counts2 = compare_label_counts(folder_path1, folder_path2)\n",
        "print(\"Label Counts:\")\n",
        "print(\"Folder 1:\", label_counts1)\n",
        "print(\"Folder 2:\", label_counts2)\n"
      ],
      "metadata": {
        "colab": {
          "base_uri": "https://localhost:8080/"
        },
        "id": "lDZU8qBmKVre",
        "outputId": "f1bc1747-d6f1-49ce-c13f-11d88d24278a"
      },
      "execution_count": 9,
      "outputs": [
        {
          "output_type": "stream",
          "name": "stdout",
          "text": [
            "Label Counts:\n",
            "Folder 1: {'1.txt': 1, '10.txt': 2, '11.txt': 0, '12.txt': 1, '13.txt': 1, '14.txt': 1, '15.txt': 4, '16.txt': 1, '17.txt': 4, '18.txt': 1, '19.txt': 1, '2.txt': 1, '20.txt': 2, '21.txt': 1, '22.txt': 1, '23.txt': 1, '24.txt': 1, '25.txt': 1, '26.txt': 0, '3.txt': 1, '4.txt': 4, '5.txt': 2, '6.txt': 1, '7.txt': 4, '8.txt': 4, '9.txt': 1}\n",
            "Folder 2: {'1.txt': 1, '10.txt': 1, '11.txt': 0, '12.txt': 1, '13.txt': 1, '14.txt': 1, '15.txt': 5, '16.txt': 1, '17.txt': 4, '18.txt': 1, '19.txt': 1, '2.txt': 1, '20.txt': 2, '21.txt': 1, '22.txt': 1, '23.txt': 1, '24.txt': 1, '25.txt': 1, '26.txt': 0, '3.txt': 1, '4.txt': 4, '5.txt': 2, '6.txt': 1, '7.txt': 7, '8.txt': 4, '9.txt': 1}\n"
          ]
        }
      ]
    },
    {
      "cell_type": "markdown",
      "source": [
        "Как можно заметить есть некоторые различия в количестве размеченных объектов.\n",
        "\n",
        "Как в случае:\n",
        "* 15.txt\n",
        "* 10.txt\n",
        "* 7.txt"
      ],
      "metadata": {
        "id": "qG6j9bi9TdwR"
      }
    },
    {
      "cell_type": "markdown",
      "source": [
        "# Проверим различие в bbox объектов"
      ],
      "metadata": {
        "id": "OX-MWK--T0Yr"
      }
    },
    {
      "cell_type": "code",
      "source": [
        "bbox_deviations = compare_bbox_values(folder_path1, folder_path2)\n",
        "\n",
        "print(\"\\nDeviation in Bbox Values:\")\n",
        "for file_name, deviations in bbox_deviations.items():\n",
        "    # print(f\"\\nFile: {file_name}\")\n",
        "    for deviation in deviations:\n",
        "        if deviation['bbox_deviation'] == [0.0, 0.0, 0.0, 0.0]:\n",
        "            continue\n",
        "        print(f\"\\nFile: {file_name} Class: {deviation['class']}, Deviation: {deviation['bbox_deviation']}\")"
      ],
      "metadata": {
        "colab": {
          "base_uri": "https://localhost:8080/"
        },
        "id": "s6xZmhaJTNTQ",
        "outputId": "7c91bd85-2542-4ab7-e5ac-9a06b22180bb"
      },
      "execution_count": 10,
      "outputs": [
        {
          "output_type": "stream",
          "name": "stdout",
          "text": [
            "Number of annotations mismatch between 10.txt and 10.txt\n",
            "Number of annotations mismatch between 15.txt and 15.txt\n",
            "Number of annotations mismatch between 7.txt and 7.txt\n",
            "\n",
            "Deviation in Bbox Values:\n",
            "\n",
            "File: 12.txt Class: 0, Deviation: [-0.18437499999999998, 0.0, -0.36812500000000004, 0.0]\n",
            "\n",
            "File: 16.txt Class: 0, Deviation: [-0.018125000000000002, -0.003750000000000031, -0.03624999999999998, 0.0068749999999999645]\n",
            "\n",
            "File: 17.txt Class: 0, Deviation: [-0.08374999999999999, 0.0, -0.16812499999999997, 0.0]\n",
            "\n",
            "File: 17.txt Class: 0, Deviation: [-0.514375, -0.03125, 0.07125, -0.026875000000000038]\n",
            "\n",
            "File: 17.txt Class: 0, Deviation: [0.14875000000000005, 0.036250000000000004, -0.12250000000000003, 0.06562499999999999]\n",
            "\n",
            "File: 17.txt Class: 0, Deviation: [0.198125, 0.03125, 0.0018749999999999878, 0.17625]\n",
            "\n",
            "File: 18.txt Class: 0, Deviation: [-0.007500000000000007, -0.0018750000000000155, -0.03, 0.004374999999999962]\n",
            "\n",
            "File: 23.txt Class: 0, Deviation: [-0.0068749999999999645, 0.0, -0.014374999999999916, 0.0]\n",
            "\n",
            "File: 24.txt Class: 0, Deviation: [0.007499999999999951, -0.014999999999999902, 0.014375000000000027, 0.030000000000000027]\n",
            "\n",
            "File: 3.txt Class: 0, Deviation: [0.08500000000000008, 0.0050000000000000044, -0.17062499999999997, -0.010624999999999996]\n",
            "\n",
            "File: 5.txt Class: 0, Deviation: [0.0025000000000000577, -0.0050000000000000044, -0.0050000000000000044, -0.009375000000000022]\n",
            "\n",
            "File: 5.txt Class: 0, Deviation: [0.0025000000000000022, -0.14250000000000002, -0.015000000000000013, -0.2899999999999999]\n",
            "\n",
            "File: 8.txt Class: 0, Deviation: [-0.0006249999999999867, 0.073125, 0.0006250000000000006, -0.14875]\n",
            "\n",
            "File: 8.txt Class: 0, Deviation: [-0.045625, -0.0012499999999999734, -0.09062500000000001, 0.0]\n",
            "\n",
            "File: 8.txt Class: 0, Deviation: [-0.057499999999999996, -0.049375, 0.05499999999999999, 0.170625]\n"
          ]
        }
      ]
    },
    {
      "cell_type": "markdown",
      "source": [
        "При попытке найти различия в bbox двух разметчиков мы можем сравнить **bbox** от двух человек и посмотреть в чем были различия и как они велики."
      ],
      "metadata": {
        "id": "d6JYynf_Yup7"
      }
    },
    {
      "cell_type": "markdown",
      "source": [
        "Т.к. **trains_only_1** размечал я сам, а **trains_only_2** мой коллега без опыта разметки, благодаря данному функционалу я могу проверить интересующие меня файлы где разметка отличается от моей.\n",
        "\n",
        "Т.к. число классов отличается только у 3-х изображений, а отклонение в координатах **bbox** достаточно велико только у **12.txt 17.txt 3.txt 8.txt** можно сделать вывод о вполне неплохой разметке от моего коллеги."
      ],
      "metadata": {
        "id": "SOF-zyPPZBTV"
      }
    },
    {
      "cell_type": "code",
      "source": [],
      "metadata": {
        "id": "n5gA5VSrOvKW"
      },
      "execution_count": null,
      "outputs": []
    }
  ]
}